{
 "cells": [
  {
   "cell_type": "code",
   "execution_count": 67,
   "metadata": {},
   "outputs": [],
   "source": [
    "try:\n",
    "    %load_ext cudf.pandas\n",
    "    import pandas as pd\n",
    "\n",
    "    print(\"CUDA acceleration is enabled.\")\n",
    "except ImportError:\n",
    "    (\"Running without CUDA acceleration\")\n"
   ]
  },
  {
   "cell_type": "code",
   "execution_count": 1,
   "metadata": {},
   "outputs": [],
   "source": [
    "from dotenv import dotenv_values, load_dotenv\n",
    "\n",
    "from scipy.spatial.distance import pdist, squareform\n",
    "from itertools import combinations\n",
    "from collections import Counter\n",
    "import numpy as np\n",
    "from sklearn.cluster import KMeans\n",
    "from sqlalchemy import create_engine, text\n",
    "import polars as pl\n",
    "import polars.selectors as cs\n",
    "import os\n",
    "\n",
    "import matplotlib.pyplot as plt\n",
    "import polars as pl\n",
    "import seaborn as sns\n",
    "import pyarrow as pa\n",
    "import pandas as pd\n",
    "import plotly.express as px\n",
    "import psycopg\n",
    "\n",
    "# from download_from_S3 import get_data_s3"
   ]
  },
  {
   "cell_type": "code",
   "execution_count": 2,
   "metadata": {},
   "outputs": [
    {
     "data": {
      "text/plain": [
       "polars.config.Config"
      ]
     },
     "execution_count": 2,
     "metadata": {},
     "output_type": "execute_result"
    }
   ],
   "source": [
    "import warnings\n",
    "\n",
    "# Suppress the specific warning about GPU-accelerated mergesort\n",
    "warnings.filterwarnings(\n",
    "    \"ignore\", message=\"GPU-accelerated mergesort is currently not supported\"\n",
    ")\n",
    "pd.set_option(\"display.float_format\", lambda x: \"{:,.2f}\".format(x))\n",
    "pd.set_option(\"display.max_columns\", None)\n",
    "# pd.set_option('display.max_rows', 20)\n",
    "pd.set_option(\"display.width\", None)\n",
    "\n",
    "\n",
    "# Set global configuration for number formatting\n",
    "pl.Config.set_fmt_str_lengths(100)  # For longer string display\n",
    "pl.Config.set_tbl_formatting(\"UTF8_FULL_CONDENSED\")\n",
    "pl.Config.set_tbl_cell_numeric_alignment(\"RIGHT\")\n",
    "pl.Config.set_tbl_rows(20)\n",
    "pl.Config.set_thousands_separator(\",\")  # Set thousands separator\n",
    "pl.Config.set_float_precision(2)  # Set decimal places"
   ]
  },
  {
   "cell_type": "code",
   "execution_count": null,
   "metadata": {},
   "outputs": [],
   "source": []
  },
  {
   "cell_type": "code",
   "execution_count": 3,
   "metadata": {},
   "outputs": [],
   "source": [
    "%load_ext autoreload\n",
    "%autoreload 2\n"
   ]
  },
  {
   "cell_type": "code",
   "execution_count": 4,
   "metadata": {},
   "outputs": [],
   "source": [
    "# load_dotenv(\"instance.env\")\n",
    "# connection_string = f\"postgresql://{os.getenv('user')}:{os.getenv('password')}@{os.getenv('host')}:{os.getenv('port')}/{os.getenv('database')}\"\n",
    "# conn = psycopg.connect(connection_string)\n"
   ]
  },
  {
   "cell_type": "code",
   "execution_count": 5,
   "metadata": {},
   "outputs": [],
   "source": [
    "# def query_to_polars(conn, query):\n",
    "#     df = pl.read_database(query, connection=conn)\n",
    "#     return df"
   ]
  }
 ],
 "metadata": {
  "kernelspec": {
   "display_name": "stepik-7doFnpVZ-py3.12",
   "language": "python",
   "name": "python3"
  },
  "language_info": {
   "codemirror_mode": {
    "name": "ipython",
    "version": 3
   },
   "file_extension": ".py",
   "mimetype": "text/x-python",
   "name": "python",
   "nbconvert_exporter": "python",
   "pygments_lexer": "ipython3",
   "version": "3.12.3"
  }
 },
 "nbformat": 4,
 "nbformat_minor": 2
}
